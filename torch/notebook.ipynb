{
 "cells": [
  {
   "cell_type": "code",
   "execution_count": null,
   "metadata": {},
   "outputs": [],
   "source": [
    "from typing import Sequence\n",
    "import torch\n",
    "from torch import nn, optim, Tensor\n",
    "import torch.nn.functional as F\n",
    "\n",
    "import os\n",
    "import time\n",
    "import numpy as np\n",
    "import tiktoken"
   ]
  },
  {
   "cell_type": "markdown",
   "metadata": {},
   "source": [
    "# Model"
   ]
  },
  {
   "cell_type": "markdown",
   "metadata": {},
   "source": [
    "### Layer Normalization\n",
    "\n",
    "$y = \\frac{x - E[x]}{\\sqrt{E[(x - E[x])^2] + \\epsilon}} \\odot \\gamma + \\beta$"
   ]
  },
  {
   "cell_type": "code",
   "execution_count": null,
   "metadata": {},
   "outputs": [],
   "source": [
    "class LayerNorm(nn.Module):\n",
    "    def __init__(self, normalized_shape: Sequence[int], bias=True, eps=1e-5) -> None:\n",
    "        super().__init__()\n",
    "        self.weight = nn.Parameter(torch.ones(normalized_shape))\n",
    "        self.bias = nn.Parameter(torch.ones(normalized_shape)) if bias else None\n",
    "        self.eps = eps\n",
    "    \n",
    "\n",
    "    def forward(self, x: Tensor) -> Tensor: \n",
    "        return F.layer_norm(x, self.weight.shape, self.weight, self.bias, self.eps) "
   ]
  },
  {
   "cell_type": "markdown",
   "metadata": {},
   "source": [
    "### Self Attention\n",
    "\n",
    "$[q_{i, j}, k_{i, j}, v_{i, j}] = x_{i, j}[W_q, W_k, W_v] + [b_q, b_k, b_v]$ \n",
    "where all $q, k, v, x, b$ are row vectors\n",
    "\n",
    "$[q_{i, j}, k_{i, j}, v_{i, j}]$ are computed for $x_i$ in the 3D tensor \n",
    "$x = \\begin{bmatrix}\n",
    "x_{1, 1} & \\dots & x_{1, T} \\\\\n",
    "\\vdots & \\ddots & \\vdots \\\\\n",
    "x_{B, 1} & \\dots & x_{B, T}\n",
    "\\end{bmatrix}$ resulting in tensors $q, k, v$\n",
    "\n",
    "$x$ has shape $(B, T, C)$ where $B$ is the batch size, $T$ is the sequence length,\n",
    "and $C$ is the number of embedding dimensions\n",
    "\n",
    "$q, k, v$ have shape $(B, T, ND)$ where $B$ is the batch size, \n",
    "$T$ is the sequence length, $N$ is the number of attention heads, and $D$ is the\n",
    "number of query/key dimensions\n",
    "\n",
    "$q, k, v$ are reshaped to $(B, N, T, D)$\n",
    "\n",
    "$a_{i, j} = q_{i, j} k_{i, j}^T$\n",
    "\n",
    "$a_{i, j} = -\\infty$ for all $i < j$\n",
    "\n",
    "$a_{i, j} = \\text{softmax}(a_{i, j})$ where softmax is computed rowwise\n",
    "\n",
    "$y_{i, j} = a_{i, j} v_{i, j}$\n",
    "\n",
    "$y$ has shape $(B, N, T, D)$\n",
    "\n",
    "$y$ is reshaped to $(B, T, ND)$, so $y_{i, j}$ is a row vector\n",
    "\n",
    "$y_{i, j} = y_{i, j}W_p + b_p$ "
   ]
  },
  {
   "cell_type": "code",
   "execution_count": null,
   "metadata": {},
   "outputs": [],
   "source": [
    "class SelfAttention(nn.Module):\n",
    "    def __init__(self, n_embed: int, n_head: int, dropout: float, bias=True) -> None:\n",
    "        super().__init__()\n",
    "        self.n_embed = n_embed\n",
    "        self.n_head = n_head\n",
    "        assert n_embed % n_head == 0 \n",
    "        self.D = n_embed // n_head\n",
    "\n",
    "        self.c_attn = nn.Linear(n_embed, 3 * n_embed, bias=bias)\n",
    "        self.c_proj = nn.Linear(n_embed, n_embed, bias=bias)\n",
    "\n",
    "        self.dropout = dropout\n",
    "        self.attn_dropout = nn.Dropout(dropout)\n",
    "        self.res_dropout = nn.Dropout(dropout)\n",
    "\n",
    "        self.attn_scale = 1.0 / np.sqrt(self.D)\n",
    "    \n",
    "\n",
    "    def forward(self, x: Tensor) -> Tensor:\n",
    "        B, T, n_embed = x.shape\n",
    "        assert n_embed == self.n_embed\n",
    "\n",
    "        q, k, v = self.c_attn(x).split(self.n_embed, dim=2)\n",
    "\n",
    "        q = q.view(B, T, self.n_head, self.D).transpose(1, 2) # gives shape (B, N, T, D)\n",
    "        k = k.view(B, T, self.n_head, self.D).transpose(1, 2) # gives shape (B, N, T, D)\n",
    "        v = v.view(B, T, self.n_head, self.D).transpose(1, 2) # gives shape (B, N, T, D)\n",
    "\n",
    "        y = F.scaled_dot_product_attention(q, k, v, dropout_p=self.dropout, is_causal=True)\n",
    "        y = y.transpose(1, 2).contiguous().view(B, T, self.n_embed) # concat head outputs \n",
    "        y = self.c_proj(y)\n",
    "        y = self.res_dropout(y)\n",
    "        return y"
   ]
  },
  {
   "cell_type": "markdown",
   "metadata": {},
   "source": [
    "### MLP\n",
    "\n",
    "$x_{i, j} = x_{i, j} W_{c} + B_{c}$\n",
    "\n",
    "$y_{i, j} = x_{i, j} W_{p} + B_{p}$"
   ]
  },
  {
   "cell_type": "code",
   "execution_count": null,
   "metadata": {},
   "outputs": [],
   "source": [
    "class MLP(nn.Module):\n",
    "    def __init__(self, n_embed: int, dropout: float, bias=True):\n",
    "        super().__init__()\n",
    "        self.c_fc = nn.Linear(n_embed, 4 * n_embed, bias=bias)\n",
    "        self.c_proj = nn.Linear(4 * n_embed, n_embed, bias=bias)\n",
    "        self.dropout = nn.Dropout(dropout)\n",
    "\n",
    "\n",
    "    def forward(self, x: Tensor) -> Tensor:\n",
    "        x = F.gelu(self.c_fc(x))\n",
    "        x = self.c_proj(x)\n",
    "        x = self.dropout(x)\n",
    "        return x"
   ]
  },
  {
   "cell_type": "markdown",
   "metadata": {},
   "source": [
    "### Block\n",
    "\n",
    "Composition of layer normalization, self attention, and mlp"
   ]
  },
  {
   "cell_type": "code",
   "execution_count": null,
   "metadata": {},
   "outputs": [],
   "source": [
    "class Block(nn.Module):\n",
    "    def __init__(self, n_embed: int, n_head: int, dropout: float, bias=True) -> None:\n",
    "        super().__init__()\n",
    "        self.ln_1 = LayerNorm(n_embed, bias=bias)\n",
    "        self.attn = SelfAttention(n_embed, n_head, dropout, bias)\n",
    "        self.ln_2 = LayerNorm(n_embed, bias=bias)\n",
    "        self.mlp = MLP(n_embed, dropout, bias)\n",
    "\n",
    "\n",
    "    def forward(self, x: Tensor) -> Tensor:\n",
    "        x = x + self.attn(self.ln_1(x))\n",
    "        x = x + self.mlp(self.ln_2(x))\n",
    "        return x"
   ]
  },
  {
   "cell_type": "markdown",
   "metadata": {},
   "source": [
    "### Generative Transformer\n",
    "\n",
    "- Input is an array of token indexes\n",
    "\n",
    "- Computes token embeddings from the input\n",
    "\n",
    "- Computes position embeddings from the sequence $[0, 1, ..., T - 1]$\n",
    "\n",
    "- $x$ is the sum of the token and position embeddings\n",
    "\n",
    "- $x$ is forwarded through all the blocks\n",
    "\n",
    "- $x$ is layer normalized one more time\n",
    "\n",
    "- $x$ is forwarded through a linear layer to transform it from the embedding dimension \n",
    "    to the vocab size\n",
    "\n",
    "- If generating, $p = \\text{softmax}(x)$, and the next index is drawn from the \n",
    "    distribution $p$"
   ]
  },
  {
   "cell_type": "code",
   "execution_count": null,
   "metadata": {},
   "outputs": [],
   "source": [
    "class GenerativeTransformer(nn.Module):\n",
    "    def __init__(\n",
    "        self, n_embed: int, n_head: int, block_size: int, \n",
    "        vocab_size: int, n_layer: int, dropout: float, bias=True,\n",
    "    ) -> None:\n",
    "        super().__init__()\n",
    "        self.block_size = block_size\n",
    "\n",
    "        args = (n_embed, n_head, dropout, bias)\n",
    "\n",
    "        self.transformer = nn.ModuleDict(dict(\n",
    "            wte = nn.Embedding(vocab_size, n_embed),\n",
    "            wpe = nn.Embedding(block_size, n_embed),\n",
    "            drop = nn.Dropout(dropout),\n",
    "            h = nn.ModuleList([Block(*args) for _ in range(n_layer)]),\n",
    "            ln_f = LayerNorm(n_embed, bias=bias),\n",
    "        ))\n",
    "\n",
    "        self.lm_head = nn.Linear(n_embed, vocab_size, bias=False)\n",
    "        self.transformer.wte.weight = self.lm_head.weight\n",
    "\n",
    "        def init_weights(module):\n",
    "            if isinstance(module, nn.Linear):\n",
    "                torch.nn.init.normal_(module.weight, mean=0.0, std=0.02)\n",
    "                if module.bias is not None:\n",
    "                    torch.nn.init.zeros_(module.bias)\n",
    "            elif isinstance(module, nn.Embedding):\n",
    "                torch.nn.init.normal_(module.weight, mean=0.0, std=0.02) \n",
    "\n",
    "\n",
    "        self.apply(init_weights)\n",
    "    \n",
    "\n",
    "    def forward(self, x_idx: Tensor) -> Tensor:\n",
    "        device = x_idx.device\n",
    "        _, T = x_idx.shape\n",
    "\n",
    "        assert T <= self.block_size, \\\n",
    "            f\"cannot forward sequence of length {T}, block size is only {self.block_size}\"\n",
    "        \n",
    "        pos = torch.arange(0, T, dtype=torch.int64, device=device)\n",
    "\n",
    "        tok_emb = self.transformer.wte(x_idx) # shape (B, T, C)\n",
    "        pos_emb = self.transformer.wpe(pos) # shape (T, C)\n",
    "\n",
    "        # (B, T, C) + (T, C) = (B, T, C)\n",
    "        # elementwise addition for each batch\n",
    "        x = self.transformer.drop(tok_emb + pos_emb)\n",
    "        for blk in self.transformer.h:\n",
    "            x = blk(x)\n",
    "        x = self.transformer.ln_f(x)\n",
    "        x = self.lm_head(x)\n",
    "        return x\n",
    "    \n",
    "\n",
    "    @torch.no_grad()\n",
    "    def generate(self, x_idx: Tensor, max_new_tokens: int, temperature=1.0) -> Tensor:\n",
    "        # Take a conditioning sequence of indices x_idx (int64 tensor of shape (B, T)) and \n",
    "        # complete the sequence max_new_tokens times, feeding the predictions back into \n",
    "        # the model each time. Most likely you\"ll want to make sure to be in model.eval() \n",
    "        # mode of operation for this.\n",
    "        for _ in range(max_new_tokens):\n",
    "            if x_idx.shape[1] <= self.block_size:\n",
    "                x_idx_cropped = x_idx \n",
    "            else:\n",
    "                x_idx_cropped = x_idx[:, -self.block_size:]\n",
    "\n",
    "            logits = self(x_idx_cropped)\n",
    "            logits = logits[:, -1, :] / temperature\n",
    "\n",
    "            probs = F.softmax(logits, dim=-1)\n",
    "            idx_next = torch.multinomial(probs, num_samples=1)\n",
    "            x_idx = torch.cat((x_idx, idx_next), dim=1)\n",
    "\n",
    "        return x_idx  "
   ]
  },
  {
   "cell_type": "markdown",
   "metadata": {},
   "source": [
    "### GPT\n",
    "\n",
    "Loads a pretrained model from Hugging Face"
   ]
  },
  {
   "cell_type": "code",
   "execution_count": null,
   "metadata": {},
   "outputs": [],
   "source": [
    "def GPT(model_type: str, override_args=None) -> GenerativeTransformer:\n",
    "    assert model_type in {\"gpt2\", \"gpt2-medium\", \"gpt2-large\", \"gpt2-xl\"}\n",
    "    override_args = override_args or {} # default to empty dict\n",
    "    # only dropout can be overridden see more notes below\n",
    "    assert all(k == \"dropout\" for k in override_args)\n",
    "    from transformers import GPT2LMHeadModel\n",
    "    print(\"loading weights from pretrained gpt: %s\" % model_type)\n",
    "\n",
    "    # n_layer, n_head and n_embed are determined from model_type\n",
    "    config_args = {\n",
    "        \"gpt2\":         dict(n_layer=12, n_head=12, n_embed=768),  # 124M params\n",
    "        \"gpt2-medium\":  dict(n_layer=24, n_head=16, n_embed=1024), # 350M params\n",
    "        \"gpt2-large\":   dict(n_layer=36, n_head=20, n_embed=1280), # 774M params\n",
    "        \"gpt2-xl\":      dict(n_layer=48, n_head=25, n_embed=1600), # 1558M params\n",
    "    }[model_type]\n",
    "    \n",
    "    print(\"forcing vocab_size=50257, block_size=1024, bias=True\")\n",
    "    config_args[\"vocab_size\"] = 50257 # always 50257 for GPT model checkpoints\n",
    "    config_args[\"block_size\"] = 1024 # always 1024 for GPT model checkpoints\n",
    "    config_args[\"bias\"] = True # always True for GPT model checkpoints\n",
    "    \n",
    "    if \"dropout\" in override_args:\n",
    "        print(f\"overriding dropout rate to {override_args['dropout']}\")\n",
    "        config_args[\"dropout\"] = override_args[\"dropout\"]\n",
    "    else:\n",
    "        config_args[\"dropout\"] = 0.0\n",
    "\n",
    "    model = GenerativeTransformer(**config_args)\n",
    "    sd = model.state_dict()\n",
    "    sd_keys = sd.keys()\n",
    "    # discard this mask / buffer, not a param\n",
    "    sd_keys = [k for k in sd_keys if not k.endswith(\".attn.bias\")] \n",
    "\n",
    "    # init a huggingface/transformers model\n",
    "    model_hf = GPT2LMHeadModel.from_pretrained(model_type)\n",
    "    sd_hf = model_hf.state_dict()\n",
    "\n",
    "    sd_keys_hf = sd_hf.keys()\n",
    "    sd_keys_hf = [k for k in sd_keys_hf if not k.endswith(\".attn.masked_bias\")]\n",
    "    sd_keys_hf = [k for k in sd_keys_hf if not k.endswith(\".attn.bias\")]\n",
    "    transposed = [\n",
    "        \"attn.c_attn.weight\", \n",
    "        \"attn.c_proj.weight\", \n",
    "        \"mlp.c_fc.weight\", \n",
    "        \"mlp.c_proj.weight\",\n",
    "    ]\n",
    "\n",
    "    assert len(sd_keys_hf) == len(sd_keys), \\\n",
    "        f\"mismatched keys: {len(sd_keys_hf)} != {len(sd_keys)}\"\n",
    "    \n",
    "    for k in sd_keys_hf:\n",
    "        if any(k.endswith(w) for w in transposed):\n",
    "            assert sd_hf[k].shape[::-1] == sd[k].shape\n",
    "            with torch.no_grad():\n",
    "                sd[k].copy_(sd_hf[k].T)\n",
    "        else:\n",
    "            assert sd_hf[k].shape == sd[k].shape\n",
    "            with torch.no_grad():\n",
    "                sd[k].copy_(sd_hf[k])\n",
    "\n",
    "    return model"
   ]
  },
  {
   "cell_type": "markdown",
   "metadata": {},
   "source": [
    "# Training"
   ]
  },
  {
   "cell_type": "code",
   "execution_count": null,
   "metadata": {},
   "outputs": [],
   "source": [
    "OUT_DIR = \"out\"\n",
    "EVAL_INTERVAL = 1000\n",
    "LOG_INTERVAL = 1\n",
    "\n",
    "DATA_DIR = \"../data\"\n",
    "\n",
    "BATCH_SIZE = 3\n",
    "BLOCK_SIZE = 1024\n",
    "\n",
    "DEVICE = \"mps\"\n",
    "DTYPE = torch.bfloat16\n",
    "\n",
    "START_LR = 1e-3\n",
    "WARMUP_ITERS = 2000\n",
    "LR_DECAY_ITERS = 600000\n",
    "MIN_LR = 1e-4"
   ]
  },
  {
   "cell_type": "markdown",
   "metadata": {},
   "source": [
    "Load data as blocks\n",
    "\n",
    "$x_i = [d_i, d_{i + 1}, ..., d_{i + b}]$\n",
    "\n",
    "$y_i = [d_{i + 1}, d_{i + 2}, ..., d_{i + b + 1}]$"
   ]
  },
  {
   "cell_type": "code",
   "execution_count": null,
   "metadata": {},
   "outputs": [],
   "source": [
    "def get_batch(split: str) -> tuple[Tensor, Tensor]:\n",
    "    if split == \"train\":\n",
    "        data = np.memmap(os.path.join(DATA_DIR, \"train.bin\"), dtype=np.uint16, mode=\"r\")\n",
    "    else:\n",
    "        data = np.memmap(os.path.join(DATA_DIR, \"val.bin\"), dtype=np.uint16, mode=\"r\")\n",
    "\n",
    "    def make_block(i: int) -> Tensor:\n",
    "        return torch.from_numpy(data[i:i + BLOCK_SIZE].astype(np.int64))\n",
    "    \n",
    "\n",
    "    idxs = torch.randint(len(data) - BLOCK_SIZE, (BATCH_SIZE,))\n",
    "    x = torch.stack([make_block(i) for i in idxs]).to(DEVICE)\n",
    "    y = torch.stack([make_block(i + 1) for i in idxs]).to(DEVICE)\n",
    "    return x, y"
   ]
  },
  {
   "cell_type": "markdown",
   "metadata": {},
   "source": [
    "$\\eta_i = \\begin{cases}\n",
    "    \\frac{\\eta \\cdot i}{N_{\\text{warmup}}} & i < N_{\\text{warmup}} \\\\\n",
    "    \\eta_{\\text{min}} + \\left(\n",
    "        \\frac{1}{2} + \\frac{1}{2}\\cos\\left(\n",
    "            \\pi \\frac{N_{\\text{warmup}} \\cdot i}{N_{\\text{decay}} - N_{\\text{warmup}}}\n",
    "        \\right)\n",
    "    \\right)(\\eta_0 - \\eta_{\\text{min}}) & N_{\\text{warmup}} \\leq i < N_{\\text{decay}} \\\\\n",
    "    \\eta_{\\text{min}} & N_{\\text{decay}} \\leq i\n",
    "\\end{cases}$"
   ]
  },
  {
   "cell_type": "code",
   "execution_count": null,
   "metadata": {},
   "outputs": [],
   "source": [
    "def get_lr(i: int) -> float:\n",
    "    if i < WARMUP_ITERS: \n",
    "        return START_LR * i / WARMUP_ITERS \n",
    "    \n",
    "    if i > LR_DECAY_ITERS:\n",
    "        return MIN_LR\n",
    "    \n",
    "    decay_ratio = (i - WARMUP_ITERS) / (LR_DECAY_ITERS - WARMUP_ITERS)\n",
    "    assert 0 <= decay_ratio and decay_ratio <= 1\n",
    "    coeff = 0.5 * (1.0 + np.cos(np.pi * decay_ratio))\n",
    "    return MIN_LR + coeff * (START_LR - MIN_LR)"
   ]
  },
  {
   "cell_type": "markdown",
   "metadata": {},
   "source": [
    "- Any parameters that is 2D will be weight decayed\n",
    "\n",
    "- No weight tensors in matmuls and embeddings have weight decay\n",
    "\n",
    "- Biases and layernorms don't have weight decay"
   ]
  },
  {
   "cell_type": "code",
   "execution_count": null,
   "metadata": {},
   "outputs": [],
   "source": [
    "def configure_optimizer(\n",
    "    params: Sequence[nn.Parameter], lr: float, \n",
    "    betas: tuple[float, float], weight_decay: float,\n",
    ") -> optim.Adam:\n",
    "    grad_params = [p for p in params if p.requires_grad]\n",
    "    decay_params = [p for p in grad_params if p.dim() >= 2]\n",
    "    nodecay_params = [p for p in grad_params if p.dim() < 2]\n",
    "    optim_groups = [\n",
    "        {\"params\": decay_params, \"weight_decay\": weight_decay},\n",
    "        {\"params\": nodecay_params, \"weight_decay\": 0.0},\n",
    "    ]\n",
    "    optimizer = optim.AdamW(optim_groups, lr=lr, betas=betas)\n",
    "    return optimizer"
   ]
  },
  {
   "cell_type": "markdown",
   "metadata": {},
   "source": [
    "Initialize model and optimizer"
   ]
  },
  {
   "cell_type": "code",
   "execution_count": null,
   "metadata": {},
   "outputs": [],
   "source": [
    "model = GenerativeTransformer(\n",
    "    n_embed=768, \n",
    "    n_head=12, \n",
    "    block_size=BLOCK_SIZE, \n",
    "    vocab_size=50304, # 50257 for gpt2\n",
    "    n_layer=12, \n",
    "    dropout=0.0, \n",
    "    bias=True,\n",
    ").to(device=DEVICE, dtype=DTYPE)"
   ]
  },
  {
   "cell_type": "code",
   "execution_count": null,
   "metadata": {},
   "outputs": [],
   "source": [
    "optimizer = configure_optimizer(\n",
    "    model.parameters(), \n",
    "    lr=START_LR, \n",
    "    betas=(0.9, 0.95), \n",
    "    weight_decay=0.1,\n",
    ")"
   ]
  },
  {
   "cell_type": "markdown",
   "metadata": {},
   "source": [
    "Load state from checkpoint"
   ]
  },
  {
   "cell_type": "code",
   "execution_count": null,
   "metadata": {},
   "outputs": [],
   "source": [
    "# checkpoint = torch.load(\"out/checkpoint.pt\")\n",
    "# model.load_state_dict(checkpoint[\"model\"])\n",
    "# optimizer.load_state_dict(checkpoint[\"optimizer\"])"
   ]
  },
  {
   "cell_type": "markdown",
   "metadata": {},
   "source": [
    "Estimate loss for training and validation splits"
   ]
  },
  {
   "cell_type": "code",
   "execution_count": null,
   "metadata": {},
   "outputs": [],
   "source": [
    "@torch.no_grad()\n",
    "def evaluate_loss(n_iters=50) -> dict[str, float]:\n",
    "    out = {}\n",
    "    model.eval()\n",
    "    for split in [\"train\", \"val\"]:\n",
    "        losses = torch.zeros(n_iters)\n",
    "        for k in range(n_iters):\n",
    "            x, y = get_batch(split)\n",
    "            logits = model(x)\n",
    "            loss = F.cross_entropy(logits.view(-1, logits.shape[-1]), y.view(-1))\n",
    "            losses[k] = loss.item()\n",
    "        out[split] = losses.mean()\n",
    "    model.train()\n",
    "    return out"
   ]
  },
  {
   "cell_type": "markdown",
   "metadata": {},
   "source": [
    "Estimate loss, and save checkpoint if validation loss is improved"
   ]
  },
  {
   "cell_type": "code",
   "execution_count": null,
   "metadata": {},
   "outputs": [],
   "source": [
    "def eval_and_save_checkpoint(iter_num: int) -> None:\n",
    "    losses = evaluate_loss()\n",
    "    print(f\"train loss {losses['train']:.4f}, val loss {losses['val']:.4f}\")\n",
    "    if losses[\"val\"] < best_val_loss:\n",
    "        best_val_loss = losses[\"val\"]\n",
    "        if iter_num > 0:\n",
    "            checkpoint = {\n",
    "                \"model\": model.state_dict(),\n",
    "                \"optimizer\": optimizer.state_dict(),\n",
    "                \"iter_num\": iter_num,\n",
    "                \"best_val_loss\": best_val_loss,\n",
    "            }\n",
    "            torch.save(checkpoint, os.path.join(OUT_DIR, \"checkpoint.pt\"))\n",
    "            print(f\"saved checkpoint to {OUT_DIR}\")"
   ]
  },
  {
   "cell_type": "markdown",
   "metadata": {},
   "source": [
    "### Crossentropy loss:\n",
    "\n",
    "$l(x, y, \\theta) = -\\sum_i y_i \\log(f(x_i, \\theta))$\n",
    "\n",
    "<br>\n",
    "\n",
    "### Train Step with Adam Optimizer\n",
    "\n",
    "$g_t = \\nabla_{\\theta_{t - 1}} l(x, y, )$\n",
    "\n",
    "$\\alpha = \\eta \\frac{\\sqrt{1 - \\beta_2^t}}{1 - \\beta_1^t}$\n",
    "\n",
    "$m_t = \\beta_1 m_{t - 1} + (1 - \\beta_1)g_t$\n",
    "\n",
    "$m_t = \\beta_2 v_{t - 1} + (1 - \\beta_2)g_t^2$\n",
    "\n",
    "$\\theta_t = \\theta_{t - 1} - \\alpha \\frac{m_t}{\\sqrt{v_t} + \\epsilon}$"
   ]
  },
  {
   "cell_type": "code",
   "execution_count": null,
   "metadata": {},
   "outputs": [],
   "source": [
    "iter_num = 1\n",
    "best_val_loss = 1e9\n",
    "t0 = time.time()\n",
    "\n",
    "while True:\n",
    "    lr = get_lr(iter_num)\n",
    "    for param_group in optimizer.param_groups:\n",
    "        param_group[\"lr\"] = lr\n",
    "    \n",
    "    x, y = get_batch(\"train\")\n",
    "\n",
    "    logits = model(x)\n",
    "    loss = F.cross_entropy(logits.view(-1, logits.shape[-1]), y.view(-1))\n",
    "    \n",
    "    loss.backward()\n",
    "    optimizer.step()\n",
    "    optimizer.zero_grad(set_to_none=True)\n",
    "\n",
    "    if iter_num % LOG_INTERVAL == 0:\n",
    "        t1 = time.time()\n",
    "        dt = t1 - t0\n",
    "        t0 = t1\n",
    "        print(f\"iter {iter_num}: loss {loss.item():.4f}, time {dt:.2f}s\")\n",
    "\n",
    "    if iter_num % EVAL_INTERVAL == 0:\n",
    "        eval_and_save_checkpoint(iter_num)\n",
    "\n",
    "    iter_num += 1"
   ]
  },
  {
   "cell_type": "markdown",
   "metadata": {},
   "source": [
    "# Prompt"
   ]
  },
  {
   "cell_type": "code",
   "execution_count": null,
   "metadata": {},
   "outputs": [],
   "source": [
    "model = GPT(\"gpt2\").to(DEVICE)"
   ]
  },
  {
   "cell_type": "code",
   "execution_count": null,
   "metadata": {},
   "outputs": [],
   "source": [
    "encoder = tiktoken.get_encoding(\"gpt2\")"
   ]
  },
  {
   "cell_type": "code",
   "execution_count": null,
   "metadata": {},
   "outputs": [],
   "source": [
    "@torch.no_grad()\n",
    "def generate(prompt: str, max_new_tokens=500, temperature=1.0) -> str:\n",
    "    encoded = encoder.encode(prompt)\n",
    "    x = torch.tensor(encoded, dtype=torch.int64, device=DEVICE)[None, :]\n",
    "    y = model.generate(x, max_new_tokens, temperature)\n",
    "    decoded = encoder.decode(y[0].tolist())\n",
    "    return decoded"
   ]
  },
  {
   "cell_type": "code",
   "execution_count": null,
   "metadata": {},
   "outputs": [],
   "source": [
    "prompt = \"I like to play violin, I play in a\""
   ]
  },
  {
   "cell_type": "code",
   "execution_count": null,
   "metadata": {},
   "outputs": [],
   "source": [
    "generate(prompt, max_new_tokens=10)"
   ]
  },
  {
   "cell_type": "code",
   "execution_count": null,
   "metadata": {},
   "outputs": [],
   "source": []
  }
 ],
 "metadata": {
  "kernelspec": {
   "display_name": "Python 3",
   "language": "python",
   "name": "python3"
  },
  "language_info": {
   "codemirror_mode": {
    "name": "ipython",
    "version": 3
   },
   "file_extension": ".py",
   "mimetype": "text/x-python",
   "name": "python",
   "nbconvert_exporter": "python",
   "pygments_lexer": "ipython3",
   "version": "3.12.2"
  }
 },
 "nbformat": 4,
 "nbformat_minor": 2
}
