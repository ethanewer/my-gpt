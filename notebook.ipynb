{
 "cells": [
  {
   "cell_type": "code",
   "execution_count": 15,
   "metadata": {},
   "outputs": [],
   "source": [
    "import torch\n",
    "from torch import nn, optim\n",
    "import torch.nn.functional as F\n",
    "\n",
    "import os\n",
    "import time\n",
    "import numpy as np\n",
    "import tiktoken"
   ]
  },
  {
   "cell_type": "markdown",
   "metadata": {},
   "source": [
    "# Model"
   ]
  },
  {
   "cell_type": "markdown",
   "metadata": {},
   "source": [
    "### Layer Normalization\n",
    "\n",
    "$y = \\frac{x - E[x]}{\\sqrt{E[(x - E[x])^2] + \\epsilon}} \\odot \\gamma + \\beta$"
   ]
  },
  {
   "cell_type": "code",
   "execution_count": 89,
   "metadata": {},
   "outputs": [],
   "source": [
    "class LayerNorm(nn.Module):\n",
    "    def __init__(self, normalized_shape, bias=True, eps=1e-5):\n",
    "        super().__init__()\n",
    "        self.weight = nn.Parameter(torch.ones(normalized_shape))\n",
    "        self.bias = nn.Parameter(torch.ones(normalized_shape)) if bias else None\n",
    "        self.eps = eps\n",
    "    \n",
    "\n",
    "    def forward(self, x):\n",
    "        y = F.layer_norm(x, self.weight.shape, self.weight, self.bias, self.eps) \n",
    "        return y  "
   ]
  },
  {
   "cell_type": "markdown",
   "metadata": {},
   "source": [
    "### Self Attention\n",
    "\n",
    "$[q_{i, j}, k_{i, j}, v_{i, j}] = x_{i, j}[W_q, W_k, W_v] + [b_q, b_k, b_v]$ \n",
    "where all $q, k, v, x, b$ are row vectors\n",
    "\n",
    "$[q_{i, j}, k_{i, j}, v_{i, j}]$ are computed for $x_i$ in the 3D tensor \n",
    "$x = \\begin{bmatrix}\n",
    "x_{1, 1} & \\dots & x_{1, T} \\\\\n",
    "\\vdots & \\ddots & \\vdots \\\\\n",
    "x_{B, 1} & \\dots & x_{B, T}\n",
    "\\end{bmatrix}$ resulting in tensors $q, k, v$\n",
    "\n",
    "$x$ has shape $(B, T, C)$ where $B$ is the batch size, $T$ is the sequence length,\n",
    "and $C$ is the number of embedding dimensions\n",
    "\n",
    "$q, k, v$ have shape $(B, T, ND)$ where $B$ is the batch size, \n",
    "$T$ is the sequence length, $N$ is the number of attention heads, and $D$ is the\n",
    "number of query/key dimensions\n",
    "\n",
    "$q, k, v$ are reshaped to $(B, N, T, D)$\n",
    "\n",
    "$a_{i, j} = q_{i, j} k_{i, j}^T$\n",
    "\n",
    "$a_{i, j} = -\\infty$ for all $i < j$\n",
    "\n",
    "$a_{i, j} = \\text{softmax}(a_{i, j})$ where softmax is computed rowwise\n",
    "\n",
    "$y_{i, j} = a_{i, j} v_{i, j}$\n",
    "\n",
    "$y$ has shape $(B, N, T, D)$\n",
    "\n",
    "$y$ is reshaped to $(B, T, ND)$, so $y_{i, j}$ is a row vector\n",
    "\n",
    "$y_{i, j} = y_{i, j}W_p + b_p$ "
   ]
  },
  {
   "cell_type": "code",
   "execution_count": 90,
   "metadata": {},
   "outputs": [],
   "source": [
    "class SelfAttention(nn.Module):\n",
    "    def __init__(self, n_embed, n_head, blk_size, dropout, bias=True):\n",
    "        super().__init__()\n",
    "        self.n_embed = n_embed\n",
    "        self.n_head = n_head\n",
    "        assert n_embed % n_head == 0 \n",
    "        self.D = n_embed // n_head\n",
    "\n",
    "        self.c_attn = nn.Linear(n_embed, 3 * n_embed, bias=bias)\n",
    "        self.c_proj = nn.Linear(n_embed, n_embed, bias=bias)\n",
    "\n",
    "        self.dropout = dropout\n",
    "        self.attn_dropout = nn.Dropout(dropout)\n",
    "        self.res_dropout = nn.Dropout(dropout)\n",
    "\n",
    "        self.attn_scale = 1.0 / np.sqrt(self.D)\n",
    "\n",
    "        self.register_buffer(\n",
    "            'bias', \n",
    "            torch.tril(torch.ones(blk_size, blk_size)).view(1, 1, blk_size, blk_size),\n",
    "        )\n",
    "\n",
    "    \n",
    "    def forward(self, x):\n",
    "        B, T, n_embed = x.shape\n",
    "        assert n_embed == self.n_embed\n",
    "\n",
    "        q, k, v = self.c_attn(x).split(self.n_embed, dim=2)\n",
    "\n",
    "        q = q.view(B, T, self.n_head, self.D).transpose(1, 2) # gives shape (B, N, T, D)\n",
    "        k = k.view(B, T, self.n_head, self.D).transpose(1, 2) # gives shape (B, N, T, D)\n",
    "        v = v.view(B, T, self.n_head, self.D).transpose(1, 2) # gives shape (B, N, T, D)\n",
    "\n",
    "        # (B, N, T, D) @ (B, N, D, T) = (B, N, T, T)\n",
    "        a = self.attn_scale * q @ k.transpose(2, 3)\n",
    "        a.masked_fill_(self.bias[:, :, :T, :T] == 0, -torch.inf)\n",
    "        a = F.softmax(a, dim=3)\n",
    "        a = self.attn_dropout(a)\n",
    "\n",
    "        # (B, N, T, T) @ (B, N, T, D) = (B, N, T, D)\n",
    "        # (T, T) @ (T, D) = (T, D) for each batch and head\n",
    "        y = a @ v\n",
    "\n",
    "        y = y.transpose(1, 2).contiguous().view(B, T, self.n_embed) # concat head outputs \n",
    "\n",
    "        y = self.c_proj(y)\n",
    "        y = self.res_dropout(y)\n",
    "        return y"
   ]
  },
  {
   "cell_type": "markdown",
   "metadata": {},
   "source": [
    "### MLP\n",
    "\n",
    "$x_{i, j} = x_{i, j} W_{c} + B_{c}$\n",
    "\n",
    "$y_{i, j} = x_{i, j} W_{p} + B_{p}$"
   ]
  },
  {
   "cell_type": "code",
   "execution_count": 91,
   "metadata": {},
   "outputs": [],
   "source": [
    "class MLP(nn.Module):\n",
    "    def __init__(self, n_embed, dropout, bias=True):\n",
    "        super().__init__()\n",
    "        self.c_fc = nn.Linear(n_embed, 4 * n_embed, bias=bias)\n",
    "        self.c_proj = nn.Linear(4 * n_embed, n_embed, bias=bias)\n",
    "        self.dropout = nn.Dropout(dropout)\n",
    "\n",
    "\n",
    "    def forward(self, x):\n",
    "        x = F.gelu(self.c_fc(x))\n",
    "        x = self.c_proj(x)\n",
    "        x = self.dropout(x)\n",
    "        return x"
   ]
  },
  {
   "cell_type": "markdown",
   "metadata": {},
   "source": [
    "### Block\n",
    "\n",
    "Composition of layer normalization, self attention, and mlp"
   ]
  },
  {
   "cell_type": "code",
   "execution_count": 92,
   "metadata": {},
   "outputs": [],
   "source": [
    "class Block(nn.Module):\n",
    "    def __init__(self, n_embed, n_head, blk_size, dropout, bias=True):\n",
    "        super().__init__()\n",
    "        self.ln_1 = LayerNorm(n_embed, bias=bias)\n",
    "        self.attn = SelfAttention(n_embed, n_head, blk_size, dropout, bias)\n",
    "        self.ln_2 = LayerNorm(n_embed, bias=bias)\n",
    "        self.mlp = MLP(n_embed, dropout, bias)\n",
    "\n",
    "\n",
    "    def forward(self, x):\n",
    "        x = x + self.attn(self.ln_1(x))\n",
    "        x = x + self.mlp(self.ln_2(x))\n",
    "        return x"
   ]
  },
  {
   "cell_type": "markdown",
   "metadata": {},
   "source": [
    "### GPT"
   ]
  },
  {
   "cell_type": "code",
   "execution_count": 119,
   "metadata": {},
   "outputs": [],
   "source": [
    "class GPT(nn.Module):\n",
    "    def __init__(self, n_embed, n_head, blk_size, \n",
    "                 vocab_size, n_layer, dropout, bias=True):\n",
    "        \n",
    "        super().__init__()\n",
    "        self.blk_size = blk_size\n",
    "\n",
    "        args = (n_embed, n_head, blk_size, dropout, bias)\n",
    "\n",
    "        self.transformer = nn.ModuleDict(dict(\n",
    "            wte = nn.Embedding(vocab_size, n_embed),\n",
    "            wpe = nn.Embedding(blk_size, n_embed),\n",
    "            drop = nn.Dropout(dropout),\n",
    "            h = nn.ModuleList([Block(*args) for _ in range(n_layer)]),\n",
    "            ln_f = LayerNorm(n_embed, bias=bias),\n",
    "        ))\n",
    "\n",
    "        self.lm_head = nn.Linear(n_embed, vocab_size, bias=False)\n",
    "        self.transformer.wte.weight = self.lm_head.weight\n",
    "\n",
    "        self.apply(self._init_weights)\n",
    "    \n",
    "\n",
    "    def _init_weights(self, module):\n",
    "        if isinstance(module, nn.Linear):\n",
    "            torch.nn.init.normal_(module.weight, mean=0.0, std=0.02)\n",
    "            if module.bias is not None:\n",
    "                torch.nn.init.zeros_(module.bias)\n",
    "        elif isinstance(module, nn.Embedding):\n",
    "            torch.nn.init.normal_(module.weight, mean=0.0, std=0.02)\n",
    "\n",
    "\n",
    "    def forward(self, x_idx):\n",
    "        device = x_idx.device\n",
    "        _, T = x_idx.size()\n",
    "\n",
    "        assert T <= self.blk_size, \\\n",
    "            f\"Cannot forward sequence of length {T}, block size is only {self.blk_size}\"\n",
    "        \n",
    "        pos = torch.arange(0, T, dtype=torch.long, device=device)\n",
    "\n",
    "        tok_emb = self.transformer.wte(x_idx) # shape (B, T, C)\n",
    "        pos_emb = self.transformer.wpe(pos) # shape (T, C)\n",
    "\n",
    "        # (B, T, C) + (T, C) = (B, T, C)\n",
    "        # elementwise addition for each batch\n",
    "        x = self.transformer.drop(tok_emb + pos_emb)\n",
    "        for blk in self.transformer.h:\n",
    "            x = blk(x)\n",
    "        x = self.transformer.ln_f(x)\n",
    "        x = self.lm_head(x)\n",
    "        return x\n",
    "\n",
    "\n",
    "    def configure_optimizers(self, lr, betas, weight_decay):\n",
    "        params = [p for p in self.parameters() if p.requires_grad]\n",
    "        # any parameters that is 2D will be weight decayed, otherwise no\n",
    "        # weight tensors in matmuls and embeddings have weight decay\n",
    "        # biases and layernorms don\"t have weight decay\n",
    "        decay_params = [p for p in params if p.dim() >= 2]\n",
    "        nodecay_params = [p for p in params if p.dim() < 2]\n",
    "        optim_groups = [\n",
    "            {\"params\": decay_params, \"weight_decay\": weight_decay},\n",
    "            {\"params\": nodecay_params, \"weight_decay\": 0.0},\n",
    "        ]\n",
    "\n",
    "        optimizer = optim.AdamW(optim_groups, lr=lr, betas=betas)\n",
    "        return optimizer\n",
    "    \n",
    "\n",
    "    @torch.no_grad()\n",
    "    def generate(self, x_idx, max_new_tokens, temperature=1.0):\n",
    "        # Take a conditioning sequence of indices x_idx (int64 tensor of shape (B, T)) and \n",
    "        # complete the sequence max_new_tokens times, feeding the predictions back into \n",
    "        # the model each time. Most likely you\"ll want to make sure to be in model.eval() \n",
    "        # mode of operation for this.\n",
    "        for _ in range(max_new_tokens):\n",
    "            if x_idx.shape[1] <= self.blk_size:\n",
    "                x_idx_cropped = x_idx \n",
    "            else:\n",
    "                x_idx_cropped = x_idx[:, -self.blk_size:]\n",
    "\n",
    "            logits = self(x_idx_cropped)\n",
    "            logits = logits[:, -1, :] / temperature\n",
    "\n",
    "            probs = F.softmax(logits, dim=-1)\n",
    "            idx_next = torch.multinomial(probs, num_samples=1)\n",
    "            x_idx = torch.cat((x_idx, idx_next), dim=1)\n",
    "\n",
    "        return x_idx    \n",
    "    \n",
    "\n",
    "    @classmethod\n",
    "    def from_pretrained(cls, model_type, override_args=None):\n",
    "        assert model_type in {'gpt2', 'gpt2-medium', 'gpt2-large', 'gpt2-xl'}\n",
    "        override_args = override_args or {} # default to empty dict\n",
    "        # only dropout can be overridden see more notes below\n",
    "        assert all(k == 'dropout' for k in override_args)\n",
    "        from transformers import GPT2LMHeadModel\n",
    "        print(\"loading weights from pretrained gpt: %s\" % model_type)\n",
    "\n",
    "        # n_layer, n_head and n_embed are determined from model_type\n",
    "        config_args = {\n",
    "            \"gpt2\":         dict(n_layer=12, n_head=12, n_embed=768),  # 124M params\n",
    "            \"gpt2-medium\":  dict(n_layer=24, n_head=16, n_embed=1024), # 350M params\n",
    "            \"gpt2-large\":   dict(n_layer=36, n_head=20, n_embed=1280), # 774M params\n",
    "            \"gpt2-xl\":      dict(n_layer=48, n_head=25, n_embed=1600), # 1558M params\n",
    "        }[model_type]\n",
    "        \n",
    "        print(\"forcing vocab_size=50257, blk_size=1024, bias=True\")\n",
    "        config_args[\"vocab_size\"] = 50257 # always 50257 for GPT model checkpoints\n",
    "        config_args[\"blk_size\"] = 1024 # always 1024 for GPT model checkpoints\n",
    "        config_args[\"bias\"] = True # always True for GPT model checkpoints\n",
    "        \n",
    "        if \"dropout\" in override_args:\n",
    "            print(f\"overriding dropout rate to {override_args['dropout']}\")\n",
    "            config_args[\"dropout\"] = override_args[\"dropout\"]\n",
    "        else:\n",
    "            config_args[\"dropout\"] = 0.0\n",
    "\n",
    "        model = GPT(**config_args)\n",
    "        sd = model.state_dict()\n",
    "        sd_keys = sd.keys()\n",
    "        # discard this mask / buffer, not a param\n",
    "        sd_keys = [k for k in sd_keys if not k.endswith('.attn.bias')] \n",
    "\n",
    "        # init a huggingface/transformers model\n",
    "        model_hf = GPT2LMHeadModel.from_pretrained(model_type)\n",
    "        sd_hf = model_hf.state_dict()\n",
    "\n",
    "        sd_keys_hf = sd_hf.keys()\n",
    "        sd_keys_hf = [k for k in sd_keys_hf if not k.endswith(\".attn.masked_bias\")]\n",
    "        sd_keys_hf = [k for k in sd_keys_hf if not k.endswith(\".attn.bias\")]\n",
    "        transposed = [\n",
    "            \"attn.c_attn.weight\", \n",
    "            \"attn.c_proj.weight\", \n",
    "            \"mlp.c_fc.weight\", \n",
    "            \"mlp.c_proj.weight\",\n",
    "        ]\n",
    "\n",
    "        assert len(sd_keys_hf) == len(sd_keys), \\\n",
    "            f\"mismatched keys: {len(sd_keys_hf)} != {len(sd_keys)}\"\n",
    "        \n",
    "        for k in sd_keys_hf:\n",
    "            if any(k.endswith(w) for w in transposed):\n",
    "                assert sd_hf[k].shape[::-1] == sd[k].shape\n",
    "                with torch.no_grad():\n",
    "                    sd[k].copy_(sd_hf[k].T)\n",
    "            else:\n",
    "                assert sd_hf[k].shape == sd[k].shape\n",
    "                with torch.no_grad():\n",
    "                    sd[k].copy_(sd_hf[k])\n",
    "\n",
    "        return model"
   ]
  },
  {
   "cell_type": "markdown",
   "metadata": {},
   "source": [
    "# Training"
   ]
  },
  {
   "cell_type": "code",
   "execution_count": 85,
   "metadata": {},
   "outputs": [],
   "source": [
    "out_dir = \"out\"\n",
    "eval_interval = 1000\n",
    "log_interval = 100\n",
    "eval_iters = 50\n",
    "always_save_checkpoint = True\n",
    "\n",
    "data_dir = \"data\"\n",
    "\n",
    "batch_size = 4\n",
    "\n",
    "# model\n",
    "n_layer = 12\n",
    "n_head = 12\n",
    "n_embed = 768\n",
    "blk_size = 1024\n",
    "vocab_size = 50257\n",
    "dropout = 0.0\n",
    "bias = True\n",
    "\n",
    "# adamw optimizer\n",
    "lr = 6e-4 # max learning rate\n",
    "max_iters = 1000000 # total number of training iterations\n",
    "weight_decay = 1e-1\n",
    "beta1 = 0.9\n",
    "beta2 = 0.95\n",
    "\n",
    "# learning rate decay settings\n",
    "decay_lr = True # whether to decay the learning rate\n",
    "warmup_iters = 2000 # how many steps to warm up for\n",
    "lr_decay_iters = 600000 # should be ~= max_iters per Chinchilla\n",
    "min_lr = 6e-5 # minimum learning rate, should be ~= lr/10 per Chinchilla\n",
    "device = \"mps\"\n",
    "dtype = torch.float32\n",
    "compile = False"
   ]
  },
  {
   "cell_type": "code",
   "execution_count": 8,
   "metadata": {},
   "outputs": [],
   "source": [
    "def get_batch(split):\n",
    "    if split == \"train\":\n",
    "        data = np.memmap(os.path.join(data_dir, \"train.bin\"), dtype=np.uint16, mode=\"r\")\n",
    "    else:\n",
    "        data = np.memmap(os.path.join(data_dir, \"val.bin\"), dtype=np.uint16, mode=\"r\")\n",
    "\n",
    "    def make_block(i):\n",
    "        return torch.from_numpy((data[i:i + blk_size]).astype(np.int64))\n",
    "    \n",
    "\n",
    "    idxs = torch.randint(len(data) - blk_size, (batch_size,))\n",
    "    x = torch.stack([make_block(i) for i in idxs]).to(device)\n",
    "    y = torch.stack([make_block(i + 1) for i in idxs]).to(device)\n",
    "    return x, y"
   ]
  },
  {
   "cell_type": "code",
   "execution_count": 9,
   "metadata": {},
   "outputs": [],
   "source": [
    "model = GPT(n_embed, n_head, blk_size, vocab_size, n_layer, dropout, bias).to(device)"
   ]
  },
  {
   "cell_type": "code",
   "execution_count": 10,
   "metadata": {},
   "outputs": [],
   "source": [
    "optimizer = model.configure_optimizers(lr, (beta1, beta2), weight_decay)"
   ]
  },
  {
   "cell_type": "code",
   "execution_count": 11,
   "metadata": {},
   "outputs": [],
   "source": [
    "# checkpoint = torch.load('out/checkpoint.pt')\n",
    "# model.load_state_dict(checkpoint['model'])\n",
    "# optimizer.load_state_dict(checkpoint['optimizer'])"
   ]
  },
  {
   "cell_type": "code",
   "execution_count": 12,
   "metadata": {},
   "outputs": [],
   "source": [
    "@torch.no_grad()\n",
    "def estimate_loss():\n",
    "    out = {}\n",
    "    model.eval()\n",
    "    for split in [\"train\", \"val\"]:\n",
    "        losses = torch.zeros(eval_iters)\n",
    "        for k in range(eval_iters):\n",
    "            x, y = get_batch(split)\n",
    "            logits = model(x)\n",
    "            loss = F.cross_entropy(logits.view(-1, logits.shape[-1]), y.view(-1))\n",
    "            losses[k] = loss.item()\n",
    "        out[split] = losses.mean()\n",
    "    model.train()\n",
    "    return out"
   ]
  },
  {
   "cell_type": "code",
   "execution_count": 13,
   "metadata": {},
   "outputs": [],
   "source": [
    "def get_lr(iter_num):\n",
    "    # linear warmup for warmup_iters steps\n",
    "    if iter_num < warmup_iters:\n",
    "        return lr * iter_num / warmup_iters\n",
    "    # if iter_num > lr_decay_iters, return min learning rate\n",
    "    if iter_num > lr_decay_iters:\n",
    "        return min_lr\n",
    "    # in between, use cosine decay down to min learning rate\n",
    "    decay_ratio = (iter_num - warmup_iters) / (lr_decay_iters - warmup_iters)\n",
    "    assert 0 <= decay_ratio <= 1\n",
    "    coeff = 0.5 * (1.0 + np.cos(np.pi * decay_ratio)) # coeff ranges 0..1\n",
    "    return min_lr + coeff * (lr - min_lr)"
   ]
  },
  {
   "cell_type": "code",
   "execution_count": 14,
   "metadata": {},
   "outputs": [],
   "source": [
    "iter_num = 1\n",
    "best_val_loss = 1e9\n",
    "\n",
    "x, y = get_batch(\"train\")\n",
    "t0 = time.time()\n",
    "\n",
    "while True:\n",
    "    # determine and set the learning rate for this iteration\n",
    "    lr = get_lr(iter_num) if decay_lr else lr\n",
    "    for param_group in optimizer.param_groups:\n",
    "        param_group[\"lr\"] = lr\n",
    "    \n",
    "    logits = model(x)\n",
    "    loss = F.cross_entropy(logits.view(-1, logits.shape[-1]), y.view(-1))\n",
    "    \n",
    "    x, y = get_batch(\"train\")\n",
    "\n",
    "    loss.backward()\n",
    "    optimizer.step()\n",
    "    optimizer.zero_grad(set_to_none=True)\n",
    "\n",
    "    # timing and logging\n",
    "    t1 = time.time()\n",
    "    dt = t1 - t0\n",
    "    t0 = t1\n",
    "    if iter_num % log_interval == 0:\n",
    "        print(f\"iter {iter_num}: loss {loss.item():.4f}, time {dt:.2f}s\")\n",
    "    \n",
    "    # evaluate the loss on train/val sets and write checkpoints\n",
    "    if iter_num % eval_interval == 0:\n",
    "        losses = estimate_loss()\n",
    "        print(f\"train loss {losses[\"train\"]:.4f}, val loss {losses[\"val\"]:.4f}\")\n",
    "        \n",
    "        if losses[\"val\"] < best_val_loss or always_save_checkpoint:\n",
    "            best_val_loss = losses[\"val\"]\n",
    "            if iter_num > 0:\n",
    "                checkpoint = {\n",
    "                    \"model\": model.state_dict(),\n",
    "                    \"optimizer\": optimizer.state_dict(),\n",
    "                    \"iter_num\": iter_num,\n",
    "                    \"best_val_loss\": best_val_loss,\n",
    "                }\n",
    "                print(f\"saving checkpoint to {out_dir}\")\n",
    "                torch.save(checkpoint, os.path.join(out_dir, \"checkpoint.pt\"))\n",
    "   \n",
    "    iter_num += 1\n",
    "    if iter_num > max_iters:\n",
    "        break"
   ]
  },
  {
   "cell_type": "markdown",
   "metadata": {},
   "source": [
    "# Prompt"
   ]
  },
  {
   "cell_type": "code",
   "execution_count": 124,
   "metadata": {},
   "outputs": [
    {
     "name": "stdout",
     "output_type": "stream",
     "text": [
      "loading weights from pretrained gpt: gpt2-xl\n",
      "forcing vocab_size=50257, blk_size=1024, bias=True\n"
     ]
    },
    {
     "data": {
      "application/vnd.jupyter.widget-view+json": {
       "model_id": "93cad703eaea4a02a86dc12511b748a1",
       "version_major": 2,
       "version_minor": 0
      },
      "text/plain": [
       "config.json:   0%|          | 0.00/689 [00:00<?, ?B/s]"
      ]
     },
     "metadata": {},
     "output_type": "display_data"
    },
    {
     "data": {
      "application/vnd.jupyter.widget-view+json": {
       "model_id": "add21a62c1414a73acfa5572dc530cca",
       "version_major": 2,
       "version_minor": 0
      },
      "text/plain": [
       "model.safetensors:   0%|          | 0.00/6.43G [00:00<?, ?B/s]"
      ]
     },
     "metadata": {},
     "output_type": "display_data"
    },
    {
     "data": {
      "application/vnd.jupyter.widget-view+json": {
       "model_id": "7a0cd9a0aa6b413cbecb76bddf201fec",
       "version_major": 2,
       "version_minor": 0
      },
      "text/plain": [
       "generation_config.json:   0%|          | 0.00/124 [00:00<?, ?B/s]"
      ]
     },
     "metadata": {},
     "output_type": "display_data"
    }
   ],
   "source": [
    "model = GPT.from_pretrained(\"gpt2-xl\").to(device)"
   ]
  },
  {
   "cell_type": "code",
   "execution_count": 126,
   "metadata": {},
   "outputs": [],
   "source": [
    "encoder = tiktoken.get_encoding(\"gpt2\")"
   ]
  },
  {
   "cell_type": "code",
   "execution_count": 127,
   "metadata": {},
   "outputs": [],
   "source": [
    "@torch.no_grad()\n",
    "def generate(prompt, max_new_tokens=500, temperature=1.0):\n",
    "    encoded = encoder.encode(prompt)\n",
    "    x = torch.tensor(encoded, dtype=torch.int64, device=device)[None, :]\n",
    "    y = model.generate(x, max_new_tokens, temperature)\n",
    "    decoded = encoder.decode(y[0].tolist())\n",
    "    return decoded"
   ]
  },
  {
   "cell_type": "code",
   "execution_count": 131,
   "metadata": {},
   "outputs": [],
   "source": [
    "prompt = 'plants are very important, they'"
   ]
  },
  {
   "cell_type": "code",
   "execution_count": 132,
   "metadata": {},
   "outputs": [
    {
     "data": {
      "text/plain": [
       "\"plants are very important, they're the basis of your move, so we need\""
      ]
     },
     "execution_count": 132,
     "metadata": {},
     "output_type": "execute_result"
    }
   ],
   "source": [
    "generate(prompt, max_new_tokens=10)"
   ]
  },
  {
   "cell_type": "code",
   "execution_count": null,
   "metadata": {},
   "outputs": [],
   "source": []
  }
 ],
 "metadata": {
  "kernelspec": {
   "display_name": "Python 3",
   "language": "python",
   "name": "python3"
  },
  "language_info": {
   "codemirror_mode": {
    "name": "ipython",
    "version": 3
   },
   "file_extension": ".py",
   "mimetype": "text/x-python",
   "name": "python",
   "nbconvert_exporter": "python",
   "pygments_lexer": "ipython3",
   "version": "3.11.7"
  }
 },
 "nbformat": 4,
 "nbformat_minor": 2
}
