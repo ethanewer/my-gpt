{
 "cells": [
  {
   "cell_type": "code",
   "execution_count": 1,
   "metadata": {},
   "outputs": [],
   "source": [
    "import numpy as np\n",
    "from mlx import core as mx, nn, optimizers\n",
    "\n",
    "import os\n",
    "import time\n",
    "from functools import partial\n",
    "import tiktoken"
   ]
  },
  {
   "cell_type": "markdown",
   "metadata": {},
   "source": [
    "# Model"
   ]
  },
  {
   "cell_type": "markdown",
   "metadata": {},
   "source": [
    "### Layer Normalization\n",
    "\n",
    "$y = \\frac{x - E[x]}{\\sqrt{E[(x - E[x])^2] + \\epsilon}} \\odot \\gamma + \\beta$"
   ]
  },
  {
   "cell_type": "code",
   "execution_count": null,
   "metadata": {},
   "outputs": [],
   "source": [
    "class LayerNorm(nn.Module):\n",
    "    def __init__(self, normalized_shape, bias=True, eps=1e-5):\n",
    "        super().__init__()\n",
    "        self.weight = mx.ones(normalized_shape)\n",
    "        self.bias = mx.ones(normalized_shape) if bias else None\n",
    "        self.eps = eps\n",
    "    \n",
    "\n",
    "    def __call__(self, x): \n",
    "        return mx.fast.layer_norm(x, self.weight, self.bias, self.eps) "
   ]
  },
  {
   "cell_type": "markdown",
   "metadata": {},
   "source": [
    "### Self Attention\n",
    "\n",
    "$[q_{i, j}, k_{i, j}, v_{i, j}] = x_{i, j}[W_q, W_k, W_v] + [b_q, b_k, b_v]$ \n",
    "where all $q, k, v, x, b$ are row vectors\n",
    "\n",
    "$[q_{i, j}, k_{i, j}, v_{i, j}]$ are computed for $x_i$ in the 3D tensor \n",
    "$x = \\begin{bmatrix}\n",
    "x_{1, 1} & \\dots & x_{1, T} \\\\\n",
    "\\vdots & \\ddots & \\vdots \\\\\n",
    "x_{B, 1} & \\dots & x_{B, T}\n",
    "\\end{bmatrix}$ resulting in tensors $q, k, v$\n",
    "\n",
    "$x$ has shape $(B, T, C)$ where $B$ is the batch size, $T$ is the sequence length,\n",
    "and $C$ is the number of embedding dimensions\n",
    "\n",
    "$q, k, v$ have shape $(B, T, ND)$ where $B$ is the batch size, \n",
    "$T$ is the sequence length, $N$ is the number of attention heads, and $D$ is the\n",
    "number of query/key dimensions\n",
    "\n",
    "$q, k, v$ are reshaped to $(B, N, T, D)$\n",
    "\n",
    "$a_{i, j} = q_{i, j} k_{i, j}^T$\n",
    "\n",
    "$a_{i, j} = -\\infty$ for all $i < j$\n",
    "\n",
    "$a_{i, j} = \\text{softmax}(a_{i, j})$ where softmax is computed rowwise\n",
    "\n",
    "$y_{i, j} = a_{i, j} v_{i, j}$\n",
    "\n",
    "$y$ has shape $(B, N, T, D)$\n",
    "\n",
    "$y$ is reshaped to $(B, T, ND)$, so $y_{i, j}$ is a row vector\n",
    "\n",
    "$y_{i, j} = y_{i, j}W_p + b_p$ "
   ]
  },
  {
   "cell_type": "code",
   "execution_count": null,
   "metadata": {},
   "outputs": [],
   "source": [
    "class SelfAttention(nn.Module):\n",
    "    def __init__(\n",
    "        self, n_embed: int, n_head: int, \n",
    "        mask: mx.array, dropout: float, bias=True\n",
    "    ) -> None:\n",
    "        super().__init__()\n",
    "        self.n_embed = n_embed\n",
    "        self.n_head = n_head\n",
    "        assert n_embed % n_head == 0 \n",
    "        self.D = n_embed // n_head\n",
    "\n",
    "        self.c_attn = nn.Linear(n_embed, 3 * n_embed, bias=bias)\n",
    "        self.c_proj = nn.Linear(n_embed, n_embed, bias=bias)\n",
    "        self.dropout = nn.Dropout(dropout)\n",
    "\n",
    "        self.mask = mask\n",
    "        self.scale = 1.0 / np.sqrt(self.D)\n",
    "    \n",
    "\n",
    "    def __call__(self, x: mx.array):\n",
    "        B, T, n_embed = x.shape\n",
    "        assert n_embed == self.n_embed\n",
    "\n",
    "        tmp = self.c_attn(x)\n",
    "        tmp = tmp.split(self.n_embed, axis=2)\n",
    "\n",
    "        q, k, v = mx.split(self.c_attn(x), 3, axis=2)\n",
    "\n",
    "        # reshape to (B, N, T, D)\n",
    "        q = q.reshape((B, T, self.n_head, self.D)).transpose((0, 2, 1, 3)) \n",
    "        k = k.reshape((B, T, self.n_head, self.D)).transpose((0, 2, 1, 3))\n",
    "        v = v.reshape((B, T, self.n_head, self.D)).transpose((0, 2, 1, 3))\n",
    "        \n",
    "        y = mx.fast.scaled_dot_product_attention(\n",
    "            q, k, v, \n",
    "            mask=self.mask[:T, :T], \n",
    "            scale=self.scale,\n",
    "        )\n",
    "        \n",
    "        y = y.transpose((0, 2, 1, 3)).reshape((B, T, self.n_embed)) # concat head outputs \n",
    "        y = self.c_proj(y)\n",
    "        y = self.dropout(y)\n",
    "        return y"
   ]
  },
  {
   "cell_type": "markdown",
   "metadata": {},
   "source": [
    "### MLP\n",
    "\n",
    "$x_{i, j} = x_{i, j} W_{c} + B_{c}$\n",
    "\n",
    "$y_{i, j} = x_{i, j} W_{p} + B_{p}$"
   ]
  },
  {
   "cell_type": "code",
   "execution_count": null,
   "metadata": {},
   "outputs": [],
   "source": [
    "class MLP(nn.Module):\n",
    "    def __init__(self, n_embed, dropout, bias=True):\n",
    "        super().__init__()\n",
    "        self.c_fc = nn.Linear(n_embed, 4 * n_embed, bias=bias)\n",
    "        self.c_proj = nn.Linear(4 * n_embed, n_embed, bias=bias)\n",
    "        self.dropout = nn.Dropout(dropout)\n",
    "\n",
    "\n",
    "    def __call__(self, x):\n",
    "        x = nn.gelu(self.c_fc(x))\n",
    "        x = self.c_proj(x)\n",
    "        x = self.dropout(x)\n",
    "        return x"
   ]
  },
  {
   "cell_type": "markdown",
   "metadata": {},
   "source": [
    "### Block\n",
    "\n",
    "Composition of layer normalization, self attention, and mlp"
   ]
  },
  {
   "cell_type": "code",
   "execution_count": null,
   "metadata": {},
   "outputs": [],
   "source": [
    "class Block(nn.Module):\n",
    "    def __init__(\n",
    "        self, n_embed: int, n_head: int, \n",
    "        mask: mx.array, dropout: float, bias=True,\n",
    "    ) -> None:\n",
    "        super().__init__()\n",
    "        self.ln_1 = LayerNorm(n_embed, bias=bias)\n",
    "        self.attn = SelfAttention(n_embed, n_head, mask, dropout, bias)\n",
    "        self.ln_2 = LayerNorm(n_embed, bias=bias)\n",
    "        self.mlp = MLP(n_embed, dropout, bias)\n",
    "\n",
    "\n",
    "    def __call__(self, x: mx.array):\n",
    "        x = x + self.attn(self.ln_1(x))\n",
    "        x = x + self.mlp(self.ln_2(x))\n",
    "        return x"
   ]
  },
  {
   "cell_type": "markdown",
   "metadata": {},
   "source": [
    "### Generative Transformer\n",
    "- Input is an array of token indexes\n",
    "- Computes token embeddings from the input\n",
    "- Computes position embeddings from the sequence $[0, 1, ..., T - 1]$\n",
    "- $x$ is the sum of the token and position embeddings\n",
    "- $x$ is forwarded through all the blocks\n",
    "- $x$ is layer normalized one more time\n",
    "- $x$ is forwarded through a linear layer to transform it from the embedding dimension \n",
    "    to the vocab size\n",
    "- If generating, $p = \\text{softmax}(x)$, and the next index is drawn from the \n",
    "    distribution $p$"
   ]
  },
  {
   "cell_type": "code",
   "execution_count": null,
   "metadata": {},
   "outputs": [],
   "source": [
    "class GenerativeTransformer(nn.Module):\n",
    "    def __init__(\n",
    "        self, n_embed: int, n_head: int, block_size: int, \n",
    "        vocab_size: int, n_layer: int, dropout: float, bias=True,\n",
    "    ) -> None:\n",
    "        super().__init__()\n",
    "        self.block_size = block_size\n",
    "        self.wte = nn.Embedding(vocab_size, n_embed)\n",
    "        self.wpe = nn.Embedding(block_size, n_embed)\n",
    "        self.drop = nn.Dropout(dropout)\n",
    "\n",
    "        mask = np.zeros((block_size, block_size), dtype=np.float32)\n",
    "        mask[np.tril(np.ones((block_size, block_size))) == 0] = -np.inf\n",
    "        mask = mx.array(mask)\n",
    "        \n",
    "        self.h = [Block(n_embed, n_head, mask, dropout, bias) for _ in range(n_layer)]\n",
    "        self.ln_f = LayerNorm(n_embed, bias=bias)\n",
    "\n",
    "        self.lm_head = nn.Linear(n_embed, vocab_size, bias=False)\n",
    "        self.wte.weight = self.lm_head.weight\n",
    "\n",
    "        def init_weights(_, m: nn.Module):\n",
    "            if isinstance(m, nn.Linear) or isinstance(m, nn.Embedding):\n",
    "                m.weight = nn.init.normal(0.0, 0.02)(m.weight)\n",
    "                if hasattr(m, \"bias\") and m.bias is not None:\n",
    "                    m.bias = mx.zeros_like(m.bias)\n",
    "        \n",
    "\n",
    "        self.apply_to_modules(init_weights)\n",
    "                \n",
    "    \n",
    "\n",
    "    def __call__(self, x_idx: mx.array):\n",
    "        _, T = x_idx.shape\n",
    "\n",
    "        assert T <= self.block_size, \\\n",
    "            f\"cannot forward sequence of length {T}, block size is only {self.block_size}\"\n",
    "        \n",
    "        pos = mx.arange(0, T, dtype=mx.int64)\n",
    "\n",
    "        tok_emb = self.wte(x_idx) # shape (B, T, C)\n",
    "        pos_emb = self.wpe(pos) # shape (T, C)\n",
    "\n",
    "        # (B, T, C) + (T, C) = (B, T, C)\n",
    "        # elementwise addition for each batch\n",
    "        x = self.drop(tok_emb + pos_emb)\n",
    "        for blk in self.h:\n",
    "            x = blk(x)\n",
    "        x = self.ln_f(x)\n",
    "        x = self.lm_head(x)\n",
    "        return x\n",
    "    \n",
    "\n",
    "    def generate(self, x_idx: mx.array, max_new_tokens: int, temperature=1.0):\n",
    "        # Take a conditioning sequence of indices x_idx (int64 tensor of shape (B, T)) and \n",
    "        # complete the sequence max_new_tokens times, feeding the predictions back into \n",
    "        # the model each time. Most likely you\"ll want to make sure to be in model.eval() \n",
    "        # mode of operation for this.\n",
    "        for _ in range(max_new_tokens):\n",
    "            if x_idx.shape[1] <= self.block_size:\n",
    "                x_idx_cropped = x_idx \n",
    "            else:\n",
    "                x_idx_cropped = x_idx[:, -self.block_size:]\n",
    "\n",
    "            logits = self(x_idx_cropped)\n",
    "            logits = logits[:, -1, :] / temperature\n",
    "            next_idx = mx.random.categorical(logits)[None]\n",
    "            x_idx = mx.concatenate((x_idx, next_idx), axis=1)\n",
    "        return x_idx  "
   ]
  },
  {
   "cell_type": "markdown",
   "metadata": {},
   "source": [
    "# Training"
   ]
  },
  {
   "cell_type": "code",
   "execution_count": null,
   "metadata": {},
   "outputs": [],
   "source": [
    "OUT_DIR = \"out\"\n",
    "EVAL_INTERVAL = 1000\n",
    "LOG_INTERVAL = 1\n",
    "\n",
    "DATA_DIR = \"../data\"\n",
    "\n",
    "BATCH_SIZE = 3\n",
    "BLOCK_SIZE = 1024\n",
    "\n",
    "lr = 1e-3\n",
    "WARMUP_ITERS = 2000\n",
    "LR_DECAY_ITERS = 600000\n",
    "MIN_LR = 1e-4"
   ]
  },
  {
   "cell_type": "code",
   "execution_count": null,
   "metadata": {},
   "outputs": [],
   "source": [
    "def get_batch(split):\n",
    "    if split == \"train\":\n",
    "        data = np.memmap(os.path.join(DATA_DIR, \"train.bin\"), dtype=np.uint16, mode=\"r\")\n",
    "    else:\n",
    "        data = np.memmap(os.path.join(DATA_DIR, \"val.bin\"), dtype=np.uint16, mode=\"r\")\n",
    "\n",
    "    def make_block(i):\n",
    "        return mx.array(data[i:i + BLOCK_SIZE].astype(np.int64))\n",
    "    \n",
    "\n",
    "    idxs = np.random.randint(0, len(data) - BLOCK_SIZE, [BATCH_SIZE])\n",
    "    x = mx.stack([make_block(i) for i in idxs])\n",
    "    y = mx.stack([make_block(i + 1) for i in idxs])\n",
    "    return x, y"
   ]
  },
  {
   "cell_type": "code",
   "execution_count": null,
   "metadata": {},
   "outputs": [],
   "source": [
    "def get_lr(iter_num):\n",
    "    if iter_num < WARMUP_ITERS: \n",
    "        return lr * iter_num / WARMUP_ITERS \n",
    "    \n",
    "    if iter_num > LR_DECAY_ITERS:\n",
    "        return MIN_LR\n",
    "    \n",
    "    decay_ratio = (iter_num - WARMUP_ITERS) / (LR_DECAY_ITERS - WARMUP_ITERS)\n",
    "    assert 0 <= decay_ratio and decay_ratio <= 1\n",
    "    coeff = 0.5 * (1.0 + np.cos(np.pi * decay_ratio))\n",
    "    return MIN_LR + coeff * (lr - MIN_LR)"
   ]
  },
  {
   "cell_type": "code",
   "execution_count": null,
   "metadata": {},
   "outputs": [],
   "source": [
    "model = GenerativeTransformer(\n",
    "    n_embed=768, \n",
    "    n_head=12, \n",
    "    block_size=BLOCK_SIZE, \n",
    "    vocab_size=50304, # 50257 for gpt2\n",
    "    n_layer=12, \n",
    "    dropout=0.0, \n",
    "    bias=True,\n",
    ")\n",
    "\n",
    "# model.load_weights(f\"{OUT_DIR}/model.npz\")\n",
    "\n",
    "model.set_dtype(mx.bfloat16)\n",
    "\n",
    "optimizer = optimizers.AdamW(lr, (0.9, 0.95), 1e-7, 0.1)\n",
    "\n",
    "state = [model.state, optimizer.state]\n",
    "\n",
    "mx.eval(state)"
   ]
  },
  {
   "cell_type": "code",
   "execution_count": null,
   "metadata": {},
   "outputs": [],
   "source": [
    "def loss_fn(model, x, y):\n",
    "    return nn.losses.cross_entropy(model(x), y, reduction=\"mean\")\n",
    "\n",
    "\n",
    "@partial(mx.compile, inputs=state, outputs=state)\n",
    "def train_step(x, y):\n",
    "    loss, grads = nn.value_and_grad(model, loss_fn)(model, x, y)\n",
    "    optimizer.update(model, grads)\n",
    "    return loss\n",
    "\n",
    "\n",
    "@partial(mx.compile, inputs=state)\n",
    "def eval_step(x, y):\n",
    "    return loss_fn(model, x, y)\n",
    "\n",
    "\n",
    "def estimate_loss(n_iters=50):\n",
    "    out = {}\n",
    "    for split in [\"train\", \"val\"]:\n",
    "        losses = np.zeros(n_iters, dtype=np.float32)\n",
    "        for k in range(n_iters):\n",
    "            x, y = get_batch(split)\n",
    "            loss = eval_step(x, y)\n",
    "            losses[k] = loss.item()\n",
    "        out[split] = losses.mean()\n",
    "    return out"
   ]
  },
  {
   "cell_type": "code",
   "execution_count": null,
   "metadata": {},
   "outputs": [],
   "source": [
    "iter_num = 1\n",
    "best_val_loss = float(\"inf\")\n",
    "t0 = time.time()\n",
    "\n",
    "while True:\n",
    "    optimizer.learning_rate = get_lr(iter_num)\n",
    "\n",
    "    x, y = get_batch(\"train\")\n",
    "\n",
    "    loss = train_step(x, y)\n",
    "    mx.eval(state)\n",
    "\n",
    "    if iter_num % LOG_INTERVAL == 0:\n",
    "        t1 = time.time()\n",
    "        dt = t1 - t0\n",
    "        t0 = t1\n",
    "        print(f\"iter {iter_num}: loss {loss.item():.4f}, time {dt:.2f}s\")\n",
    "\n",
    "    if iter_num % EVAL_INTERVAL == 0:\n",
    "        losses = estimate_loss()\n",
    "        print(f\"train loss {losses['train']:.4f}, val loss {losses['val']:.4f}\")\n",
    "        if losses[\"val\"] < best_val_loss:\n",
    "            best_val_loss = losses[\"val\"]\n",
    "            model.save_weights(f\"{OUT_DIR}/model.npz\")        \n",
    "            print(f\"saved checkpoint to {OUT_DIR}\")\n",
    "\n",
    "    iter_num += 1"
   ]
  },
  {
   "cell_type": "markdown",
   "metadata": {},
   "source": [
    "# Prompt"
   ]
  },
  {
   "cell_type": "code",
   "execution_count": null,
   "metadata": {},
   "outputs": [],
   "source": [
    "encoder = tiktoken.get_encoding(\"gpt2\")"
   ]
  },
  {
   "cell_type": "code",
   "execution_count": null,
   "metadata": {},
   "outputs": [],
   "source": [
    "def generate(prompt, max_new_tokens=500, temperature=1.0):\n",
    "    encoded = encoder.encode(prompt)\n",
    "    x = mx.array(encoded, dtype=mx.int64)[None, :]\n",
    "    y = model.generate(x, max_new_tokens, temperature)\n",
    "    decoded = encoder.decode(y[0].tolist())\n",
    "    return decoded"
   ]
  },
  {
   "cell_type": "code",
   "execution_count": null,
   "metadata": {},
   "outputs": [],
   "source": [
    "prompt = \"I like to play violin, I play in a\""
   ]
  },
  {
   "cell_type": "code",
   "execution_count": null,
   "metadata": {},
   "outputs": [],
   "source": [
    "generate(prompt, max_new_tokens=10)"
   ]
  },
  {
   "cell_type": "code",
   "execution_count": null,
   "metadata": {},
   "outputs": [],
   "source": []
  },
  {
   "cell_type": "code",
   "execution_count": null,
   "metadata": {},
   "outputs": [],
   "source": []
  }
 ],
 "metadata": {
  "kernelspec": {
   "display_name": "Python 3",
   "language": "python",
   "name": "python3"
  },
  "language_info": {
   "codemirror_mode": {
    "name": "ipython",
    "version": 3
   },
   "file_extension": ".py",
   "mimetype": "text/x-python",
   "name": "python",
   "nbconvert_exporter": "python",
   "pygments_lexer": "ipython3",
   "version": "3.11.7"
  }
 },
 "nbformat": 4,
 "nbformat_minor": 2
}
